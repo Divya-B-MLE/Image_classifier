{
 "cells": [
  {
   "cell_type": "markdown",
   "metadata": {},
   "source": [
    "# Image Classification Using Convolutional Neural Network"
   ]
  },
  {
   "cell_type": "code",
   "execution_count": 1,
   "metadata": {},
   "outputs": [
    {
     "name": "stderr",
     "output_type": "stream",
     "text": [
      "Using TensorFlow backend.\n"
     ]
    },
    {
     "name": "stdout",
     "output_type": "stream",
     "text": [
      "Populating the interactive namespace from numpy and matplotlib\n"
     ]
    }
   ],
   "source": [
    "## Import relevant packages\n",
    "import numpy as np\n",
    "import pandas as pd\n",
    "import os, os.path\n",
    "import tensorflow as tf\n",
    "import cv2 \n",
    "import keras\n",
    "%pylab inline\n",
    "import matplotlib.pyplot as plt\n",
    "import matplotlib.image as mpimg\n",
    "from PIL import Image "
   ]
  },
  {
   "cell_type": "code",
   "execution_count": 2,
   "metadata": {},
   "outputs": [],
   "source": [
    "# To fix random seed for reproduciblity and prevent randomness\n",
    "seed = 7\n",
    "rand = numpy.random.RandomState(seed)"
   ]
  },
  {
   "cell_type": "code",
   "execution_count": 4,
   "metadata": {},
   "outputs": [
    {
     "name": "stdout",
     "output_type": "stream",
     "text": [
      "Different classes of images present in the train folder: 46\n"
     ]
    }
   ],
   "source": [
    "## Count total number of images in Train folder\n",
    "list = os.listdir(\"Train\") # dir is the path of the directory \n",
    "number_folders = len(list)\n",
    "print(\"Different classes of images present in the train folder: \" + str(number_folders))"
   ]
  },
  {
   "cell_type": "code",
   "execution_count": 5,
   "metadata": {},
   "outputs": [
    {
     "name": "stdout",
     "output_type": "stream",
     "text": [
      "Total images present in the train folder are: 78200\n"
     ]
    }
   ],
   "source": [
    "# To Count total number of images in Train folder\n",
    "length = 0\n",
    "for root, dirs, files in os.walk(\"Train\"):\n",
    "    length += len(files)\n",
    "print(\"Total images present in the train folder are: \"+str(length))"
   ]
  },
  {
   "cell_type": "code",
   "execution_count": 310,
   "metadata": {},
   "outputs": [],
   "source": [
    "# Append folder name to filenames in all sub folders\n",
    "for root, dirs, files in os.walk('train'):\n",
    "    if not files:\n",
    "        continue\n",
    "    # prefix consists of subfolder names contained in directory \n",
    "    prefix = os.path.basename(root)\n",
    "    for f in files:\n",
    "        os.rename(os.path.join(root, f), os.path.join(root, \"{}_{}\".format(prefix, f)))   "
   ]
  },
  {
   "cell_type": "code",
   "execution_count": 8,
   "metadata": {},
   "outputs": [],
   "source": [
    "### List of all files in a directory\n",
    "files = []\n",
    "# r=root, d=directories, f = files\n",
    "for r, d, f in os.walk(\"Train\"):\n",
    "    for file in f:\n",
    "        if '.png' in file:\n",
    "            files.append(os.path.join(r, file))"
   ]
  },
  {
   "cell_type": "code",
   "execution_count": 9,
   "metadata": {},
   "outputs": [],
   "source": [
    "import csv"
   ]
  },
  {
   "cell_type": "code",
   "execution_count": 11,
   "metadata": {},
   "outputs": [],
   "source": [
    "##It extract all images from one folder one by one\n",
    "## Stores their labels\n",
    "## Read image file and  image to grey scale\n",
    "## flatten each image one by one \n",
    "## stores in a list \n",
    "###Then stores image pixel information from list into csv format excel file\n",
    "## one image pixels in one row\n",
    "\n",
    "train_labels = []\n",
    "train_images = []\n",
    "train_image_shapes = []\n",
    "\n",
    "count = 0\n",
    "count_label = 0\n",
    "\n",
    "for file in files:\n",
    "    path = file.split(os.sep)\n",
    "  \n",
    "    #To extract only file name from comma seperated file name and directory name\n",
    "    label = os.path.basename(file)\n",
    "    label = os.path.splitext(label)[0]\n",
    "            \n",
    "    ##remove last characters from string            \n",
    "    label_minus_last6 = label.rsplit('_',1)\n",
    "    \n",
    "     ## To read each image in grayscale\n",
    "    img_file_gray = cv2.imread(file, cv2.IMREAD_GRAYSCALE)## wait as it takes some time\n",
    "\n",
    "    ##To convert image in gray scale and save in a list\n",
    "    img_file = img_file_gray.astype('float')\n",
    "\n",
    "    train_images.append( img_file_gray)\n",
    "    train_image_shapes.append(img_file_gray.shape)\n",
    "            \n",
    "    #To save the label of each image as a list named train_labels         \n",
    "    train_labels.append(label_minus_last6[0])  \n",
    "\n",
    "     \n",
    "    ###To save result in csv file without filename\n",
    "    with open('train_labels.csv', 'a', newline= '') as tlabel:\n",
    "        filewriter = csv.writer(tlabel)\n",
    "        filewriter.writerow([train_labels[count_label]])\n",
    "        count_label = count_label + 1\n",
    "\n",
    "    ##open an excel file in csv format to append the content from list generated above\n",
    "       with open('train.csv', 'a', newline= '') as myfile:\n",
    "        filewriter = csv.writer(myfile)\n",
    "        filewriter.writerow( train_images[count].flatten())\n",
    "        count = count+1    "
   ]
  },
  {
   "cell_type": "markdown",
   "metadata": {},
   "source": [
    "### c) Dimension of all the images "
   ]
  },
  {
   "cell_type": "code",
   "execution_count": 12,
   "metadata": {},
   "outputs": [
    {
     "name": "stdout",
     "output_type": "stream",
     "text": [
      "max pixel values: \n",
      "(32, 32)\n",
      "min pixel values: \n",
      "(32, 32)\n",
      "\n",
      "No, all images do not have 28 pixels by 28 pixels values instead they have 32 pixels by 32 pixels\n"
     ]
    }
   ],
   "source": [
    "from operator import itemgetter    \n",
    "print(\"max pixel values: \") \n",
    "print(max(train_image_shapes,key=itemgetter(1)))\n",
    "\n",
    "print(\"min pixel values: \") \n",
    "print(min(train_image_shapes, key=itemgetter(1)))\n",
    "\n",
    "print(\"\\n\"\"No, all images do not have 28 pixels by 28 pixels values instead they have 32 pixels by 32 pixels\" )"
   ]
  },
  {
   "cell_type": "code",
   "execution_count": 44,
   "metadata": {},
   "outputs": [
    {
     "name": "stdout",
     "output_type": "stream",
     "text": [
      "The total number of subfolders or classes in train directory: 46\n",
      "\n",
      "The total number of files in each of subfolders of the Train folder: \n",
      "[1700, 1700, 1700, 1700, 1700, 1700, 1700, 1700, 1700, 1700, 1700, 1700, 1700, 1700, 1700, 1700, 1700, 1700, 1700, 1700, 1700, 1700, 1700, 1700, 1700, 1700, 1700, 1700, 1700, 1700, 1700, 1700, 1700, 1700, 1700, 1700, 1700, 1700, 1700, 1700, 1700, 1700, 1700, 1700, 1700, 1700]\n"
     ]
    }
   ],
   "source": [
    "#Count files in each subfolder or label\n",
    "\n",
    "files_count = []\n",
    "for root, dirs, files in os.walk(\"train\"):\n",
    "    count = 0\n",
    "    path = root.split(os.sep)\n",
    "    if os.path.basename(root) != '.':\n",
    "        label = os.path.basename(root)\n",
    "        #print(label)\n",
    "    for file in files:\n",
    "        count += 1\n",
    "    #print(count)\n",
    "    files_count.append(count)\n",
    "   # i += 1\n",
    "\n",
    "#To remove first element stored in list which is zero\n",
    "files_count.pop(0)\n",
    "\n",
    "#Gives the total number of files in each of subfolders of the Train folder\n",
    "print(\"The total number of files in each of subfolders of the Train folder: \" + \"\\n\"+ str(files_count))  "
   ]
  },
  {
   "cell_type": "markdown",
   "metadata": {},
   "source": [
    "### Build Image classifier using Convolutional Neural Network"
   ]
  },
  {
   "cell_type": "code",
   "execution_count": 16,
   "metadata": {},
   "outputs": [
    {
     "data": {
      "text/html": [
       "<div>\n",
       "<style scoped>\n",
       "    .dataframe tbody tr th:only-of-type {\n",
       "        vertical-align: middle;\n",
       "    }\n",
       "\n",
       "    .dataframe tbody tr th {\n",
       "        vertical-align: top;\n",
       "    }\n",
       "\n",
       "    .dataframe thead th {\n",
       "        text-align: right;\n",
       "    }\n",
       "</style>\n",
       "<table border=\"1\" class=\"dataframe\">\n",
       "  <thead>\n",
       "    <tr style=\"text-align: right;\">\n",
       "      <th></th>\n",
       "      <th>0</th>\n",
       "      <th>1</th>\n",
       "      <th>2</th>\n",
       "      <th>3</th>\n",
       "      <th>4</th>\n",
       "      <th>5</th>\n",
       "      <th>6</th>\n",
       "      <th>7</th>\n",
       "      <th>8</th>\n",
       "      <th>9</th>\n",
       "      <th>...</th>\n",
       "      <th>1014</th>\n",
       "      <th>1015</th>\n",
       "      <th>1016</th>\n",
       "      <th>1017</th>\n",
       "      <th>1018</th>\n",
       "      <th>1019</th>\n",
       "      <th>1020</th>\n",
       "      <th>1021</th>\n",
       "      <th>1022</th>\n",
       "      <th>1023</th>\n",
       "    </tr>\n",
       "  </thead>\n",
       "  <tbody>\n",
       "    <tr>\n",
       "      <th>0</th>\n",
       "      <td>0</td>\n",
       "      <td>0</td>\n",
       "      <td>0</td>\n",
       "      <td>0</td>\n",
       "      <td>0</td>\n",
       "      <td>0</td>\n",
       "      <td>0</td>\n",
       "      <td>0</td>\n",
       "      <td>0</td>\n",
       "      <td>0</td>\n",
       "      <td>...</td>\n",
       "      <td>0</td>\n",
       "      <td>0</td>\n",
       "      <td>0</td>\n",
       "      <td>0</td>\n",
       "      <td>0</td>\n",
       "      <td>0</td>\n",
       "      <td>0</td>\n",
       "      <td>0</td>\n",
       "      <td>0</td>\n",
       "      <td>0</td>\n",
       "    </tr>\n",
       "    <tr>\n",
       "      <th>1</th>\n",
       "      <td>0</td>\n",
       "      <td>0</td>\n",
       "      <td>0</td>\n",
       "      <td>0</td>\n",
       "      <td>0</td>\n",
       "      <td>0</td>\n",
       "      <td>0</td>\n",
       "      <td>0</td>\n",
       "      <td>0</td>\n",
       "      <td>0</td>\n",
       "      <td>...</td>\n",
       "      <td>0</td>\n",
       "      <td>0</td>\n",
       "      <td>0</td>\n",
       "      <td>0</td>\n",
       "      <td>0</td>\n",
       "      <td>0</td>\n",
       "      <td>0</td>\n",
       "      <td>0</td>\n",
       "      <td>0</td>\n",
       "      <td>0</td>\n",
       "    </tr>\n",
       "    <tr>\n",
       "      <th>2</th>\n",
       "      <td>0</td>\n",
       "      <td>0</td>\n",
       "      <td>0</td>\n",
       "      <td>0</td>\n",
       "      <td>0</td>\n",
       "      <td>0</td>\n",
       "      <td>0</td>\n",
       "      <td>0</td>\n",
       "      <td>0</td>\n",
       "      <td>0</td>\n",
       "      <td>...</td>\n",
       "      <td>0</td>\n",
       "      <td>0</td>\n",
       "      <td>0</td>\n",
       "      <td>0</td>\n",
       "      <td>0</td>\n",
       "      <td>0</td>\n",
       "      <td>0</td>\n",
       "      <td>0</td>\n",
       "      <td>0</td>\n",
       "      <td>0</td>\n",
       "    </tr>\n",
       "    <tr>\n",
       "      <th>3</th>\n",
       "      <td>0</td>\n",
       "      <td>0</td>\n",
       "      <td>0</td>\n",
       "      <td>0</td>\n",
       "      <td>0</td>\n",
       "      <td>0</td>\n",
       "      <td>0</td>\n",
       "      <td>0</td>\n",
       "      <td>0</td>\n",
       "      <td>0</td>\n",
       "      <td>...</td>\n",
       "      <td>0</td>\n",
       "      <td>0</td>\n",
       "      <td>0</td>\n",
       "      <td>0</td>\n",
       "      <td>0</td>\n",
       "      <td>0</td>\n",
       "      <td>0</td>\n",
       "      <td>0</td>\n",
       "      <td>0</td>\n",
       "      <td>0</td>\n",
       "    </tr>\n",
       "    <tr>\n",
       "      <th>4</th>\n",
       "      <td>0</td>\n",
       "      <td>0</td>\n",
       "      <td>0</td>\n",
       "      <td>0</td>\n",
       "      <td>0</td>\n",
       "      <td>0</td>\n",
       "      <td>0</td>\n",
       "      <td>0</td>\n",
       "      <td>0</td>\n",
       "      <td>0</td>\n",
       "      <td>...</td>\n",
       "      <td>0</td>\n",
       "      <td>0</td>\n",
       "      <td>0</td>\n",
       "      <td>0</td>\n",
       "      <td>0</td>\n",
       "      <td>0</td>\n",
       "      <td>0</td>\n",
       "      <td>0</td>\n",
       "      <td>0</td>\n",
       "      <td>0</td>\n",
       "    </tr>\n",
       "  </tbody>\n",
       "</table>\n",
       "<p>5 rows × 1024 columns</p>\n",
       "</div>"
      ],
      "text/plain": [
       "   0     1     2     3     4     5     6     7     8     9     ...  1014  \\\n",
       "0     0     0     0     0     0     0     0     0     0     0  ...     0   \n",
       "1     0     0     0     0     0     0     0     0     0     0  ...     0   \n",
       "2     0     0     0     0     0     0     0     0     0     0  ...     0   \n",
       "3     0     0     0     0     0     0     0     0     0     0  ...     0   \n",
       "4     0     0     0     0     0     0     0     0     0     0  ...     0   \n",
       "\n",
       "   1015  1016  1017  1018  1019  1020  1021  1022  1023  \n",
       "0     0     0     0     0     0     0     0     0     0  \n",
       "1     0     0     0     0     0     0     0     0     0  \n",
       "2     0     0     0     0     0     0     0     0     0  \n",
       "3     0     0     0     0     0     0     0     0     0  \n",
       "4     0     0     0     0     0     0     0     0     0  \n",
       "\n",
       "[5 rows x 1024 columns]"
      ]
     },
     "execution_count": 16,
     "metadata": {},
     "output_type": "execute_result"
    }
   ],
   "source": [
    "X_train.head()"
   ]
  },
  {
   "cell_type": "code",
   "execution_count": 17,
   "metadata": {},
   "outputs": [],
   "source": [
    "#Read label in Panda dataframe\n",
    "#Read file and assign label name as label\n",
    "X_train_label = pd.read_csv(\"Train_labels.csv\", names = ['Labels'])"
   ]
  },
  {
   "cell_type": "code",
   "execution_count": 18,
   "metadata": {},
   "outputs": [
    {
     "data": {
      "text/html": [
       "<div>\n",
       "<style scoped>\n",
       "    .dataframe tbody tr th:only-of-type {\n",
       "        vertical-align: middle;\n",
       "    }\n",
       "\n",
       "    .dataframe tbody tr th {\n",
       "        vertical-align: top;\n",
       "    }\n",
       "\n",
       "    .dataframe thead th {\n",
       "        text-align: right;\n",
       "    }\n",
       "</style>\n",
       "<table border=\"1\" class=\"dataframe\">\n",
       "  <thead>\n",
       "    <tr style=\"text-align: right;\">\n",
       "      <th></th>\n",
       "      <th>Labels</th>\n",
       "    </tr>\n",
       "  </thead>\n",
       "  <tbody>\n",
       "    <tr>\n",
       "      <th>0</th>\n",
       "      <td>character_10_yna</td>\n",
       "    </tr>\n",
       "    <tr>\n",
       "      <th>1</th>\n",
       "      <td>character_10_yna</td>\n",
       "    </tr>\n",
       "    <tr>\n",
       "      <th>2</th>\n",
       "      <td>character_10_yna</td>\n",
       "    </tr>\n",
       "    <tr>\n",
       "      <th>3</th>\n",
       "      <td>character_10_yna</td>\n",
       "    </tr>\n",
       "    <tr>\n",
       "      <th>4</th>\n",
       "      <td>character_10_yna</td>\n",
       "    </tr>\n",
       "  </tbody>\n",
       "</table>\n",
       "</div>"
      ],
      "text/plain": [
       "             Labels\n",
       "0  character_10_yna\n",
       "1  character_10_yna\n",
       "2  character_10_yna\n",
       "3  character_10_yna\n",
       "4  character_10_yna"
      ]
     },
     "execution_count": 18,
     "metadata": {},
     "output_type": "execute_result"
    }
   ],
   "source": [
    "X_train_label.head()"
   ]
  },
  {
   "cell_type": "code",
   "execution_count": 19,
   "metadata": {},
   "outputs": [
    {
     "data": {
      "text/plain": [
       "(78200, 1)"
      ]
     },
     "execution_count": 19,
     "metadata": {},
     "output_type": "execute_result"
    }
   ],
   "source": [
    "X_train_label.shape"
   ]
  },
  {
   "cell_type": "code",
   "execution_count": 20,
   "metadata": {},
   "outputs": [
    {
     "data": {
      "text/plain": [
       "46"
      ]
     },
     "execution_count": 20,
     "metadata": {},
     "output_type": "execute_result"
    }
   ],
   "source": [
    "len(unique(X_train_label))"
   ]
  },
  {
   "cell_type": "code",
   "execution_count": 21,
   "metadata": {},
   "outputs": [],
   "source": [
    "uniq_label = unique(X_train_label.Labels)"
   ]
  },
  {
   "cell_type": "code",
   "execution_count": 22,
   "metadata": {},
   "outputs": [
    {
     "data": {
      "text/plain": [
       "array(['character_10_yna', 'character_11_taamatar', 'character_12_thaa',\n",
       "       'character_13_daa', 'character_14_dhaa', 'character_15_adna',\n",
       "       'character_16_tabala', 'character_17_tha', 'character_18_da',\n",
       "       'character_19_dha', 'character_1_ka', 'character_20_na',\n",
       "       'character_21_pa', 'character_22_pha', 'character_23_ba',\n",
       "       'character_24_bha', 'character_25_ma', 'character_26_yaw',\n",
       "       'character_27_ra', 'character_28_la', 'character_29_waw',\n",
       "       'character_2_kha', 'character_30_motosaw',\n",
       "       'character_31_petchiryakha', 'character_32_patalosaw',\n",
       "       'character_33_ha', 'character_34_chhya', 'character_35_tra',\n",
       "       'character_36_gya', 'character_3_ga', 'character_4_gha',\n",
       "       'character_5_kna', 'character_6_cha', 'character_7_chha',\n",
       "       'character_8_ja', 'character_9_jha', 'digit_0', 'digit_1',\n",
       "       'digit_2', 'digit_3', 'digit_4', 'digit_5', 'digit_6', 'digit_7',\n",
       "       'digit_8', 'digit_9'], dtype=object)"
      ]
     },
     "execution_count": 22,
     "metadata": {},
     "output_type": "execute_result"
    }
   ],
   "source": [
    "uniq_label"
   ]
  },
  {
   "cell_type": "code",
   "execution_count": 23,
   "metadata": {},
   "outputs": [
    {
     "data": {
      "text/plain": [
       "{0: 'character_10_yna',\n",
       " 1: 'character_11_taamatar',\n",
       " 2: 'character_12_thaa',\n",
       " 3: 'character_13_daa',\n",
       " 4: 'character_14_dhaa',\n",
       " 5: 'character_15_adna',\n",
       " 6: 'character_16_tabala',\n",
       " 7: 'character_17_tha',\n",
       " 8: 'character_18_da',\n",
       " 9: 'character_19_dha',\n",
       " 10: 'character_1_ka',\n",
       " 11: 'character_20_na',\n",
       " 12: 'character_21_pa',\n",
       " 13: 'character_22_pha',\n",
       " 14: 'character_23_ba',\n",
       " 15: 'character_24_bha',\n",
       " 16: 'character_25_ma',\n",
       " 17: 'character_26_yaw',\n",
       " 18: 'character_27_ra',\n",
       " 19: 'character_28_la',\n",
       " 20: 'character_29_waw',\n",
       " 21: 'character_2_kha',\n",
       " 22: 'character_30_motosaw',\n",
       " 23: 'character_31_petchiryakha',\n",
       " 24: 'character_32_patalosaw',\n",
       " 25: 'character_33_ha',\n",
       " 26: 'character_34_chhya',\n",
       " 27: 'character_35_tra',\n",
       " 28: 'character_36_gya',\n",
       " 29: 'character_3_ga',\n",
       " 30: 'character_4_gha',\n",
       " 31: 'character_5_kna',\n",
       " 32: 'character_6_cha',\n",
       " 33: 'character_7_chha',\n",
       " 34: 'character_8_ja',\n",
       " 35: 'character_9_jha',\n",
       " 36: 'digit_0',\n",
       " 37: 'digit_1',\n",
       " 38: 'digit_2',\n",
       " 39: 'digit_3',\n",
       " 40: 'digit_4',\n",
       " 41: 'digit_5',\n",
       " 42: 'digit_6',\n",
       " 43: 'digit_7',\n",
       " 44: 'digit_8',\n",
       " 45: 'digit_9'}"
      ]
     },
     "execution_count": 23,
     "metadata": {},
     "output_type": "execute_result"
    }
   ],
   "source": [
    "## Create a dictionary of labels\n",
    "label_dic ={}\n",
    "for i in range(46):\n",
    "    label_dic.update({i:uniq_label[i]})\n",
    "label_dic"
   ]
  },
  {
   "cell_type": "code",
   "execution_count": 24,
   "metadata": {},
   "outputs": [],
   "source": [
    "# Produce numeric labels from categorical classes using scikit.\n",
    "from sklearn.preprocessing import LabelEncoder\n",
    "lb_make = LabelEncoder()\n",
    "X_train_label[\"Labels\"] = lb_make.fit_transform(X_train_label[\"Labels\"])"
   ]
  },
  {
   "cell_type": "code",
   "execution_count": 25,
   "metadata": {},
   "outputs": [
    {
     "data": {
      "text/plain": [
       "0     0\n",
       "1     0\n",
       "2     0\n",
       "3     0\n",
       "4     0\n",
       "5     0\n",
       "6     0\n",
       "7     0\n",
       "8     0\n",
       "9     0\n",
       "10    0\n",
       "Name: Labels, dtype: int32"
      ]
     },
     "execution_count": 25,
     "metadata": {},
     "output_type": "execute_result"
    }
   ],
   "source": [
    "X_train_label[\"Labels\"].head(11)"
   ]
  },
  {
   "cell_type": "code",
   "execution_count": 26,
   "metadata": {},
   "outputs": [],
   "source": [
    "## Converts dataframe into a numpy array\n",
    "x = np.array(X_train)"
   ]
  },
  {
   "cell_type": "code",
   "execution_count": 27,
   "metadata": {},
   "outputs": [],
   "source": [
    "## Creats target matrix \n",
    "y = keras.utils.to_categorical(np.array(X_train_label[\"Labels\"]),46)"
   ]
  },
  {
   "cell_type": "code",
   "execution_count": 28,
   "metadata": {},
   "outputs": [],
   "source": [
    "## Shuffles both train and train labels keeping index position same in both\n",
    "index = np.random.permutation(len(x))\n",
    "x,y = x[index],y[index]"
   ]
  },
  {
   "cell_type": "code",
   "execution_count": 29,
   "metadata": {},
   "outputs": [
    {
     "data": {
      "text/plain": [
       "(78200, 1024)"
      ]
     },
     "execution_count": 29,
     "metadata": {},
     "output_type": "execute_result"
    }
   ],
   "source": [
    "x.shape"
   ]
  },
  {
   "cell_type": "code",
   "execution_count": 30,
   "metadata": {},
   "outputs": [
    {
     "data": {
      "text/plain": [
       "(78200, 46)"
      ]
     },
     "execution_count": 30,
     "metadata": {},
     "output_type": "execute_result"
    }
   ],
   "source": [
    "y.shape"
   ]
  },
  {
   "cell_type": "code",
   "execution_count": 31,
   "metadata": {},
   "outputs": [],
   "source": [
    "##Normalizes pixel intensities\n",
    "x=x/255.0"
   ]
  },
  {
   "cell_type": "code",
   "execution_count": 32,
   "metadata": {},
   "outputs": [],
   "source": [
    "## Standard imports of classes from keras\n",
    "\n",
    "from keras.models import Sequential\n",
    "\n",
    "## To add convolutional layers inside neural network  architecture\n",
    "from keras.layers.convolutional import Conv2D \n",
    "\n",
    "## ## Dense for fully connected network and Flatten for in flattening of images\n",
    "from keras.layers.core import Dense,Flatten\n",
    "\n",
    "## To downsample image data\n",
    "from keras.layers.pooling import MaxPooling2D\n",
    "\n",
    "from keras.utils import np_utils\n",
    "from keras.optimizers import SGD\n",
    "\n",
    "## To avoid overfitting\n",
    "from keras.layers import Dropout\n",
    "\n",
    "from keras.layers.normalization import BatchNormalization"
   ]
  },
  {
   "cell_type": "code",
   "execution_count": 33,
   "metadata": {},
   "outputs": [
    {
     "name": "stdout",
     "output_type": "stream",
     "text": [
      "WARNING:tensorflow:From C:\\Users\\hp\\Anaconda3\\lib\\site-packages\\tensorflow\\python\\framework\\op_def_library.py:263: colocate_with (from tensorflow.python.framework.ops) is deprecated and will be removed in a future version.\n",
      "Instructions for updating:\n",
      "Colocations handled automatically by placer.\n",
      "WARNING:tensorflow:From C:\\Users\\hp\\Anaconda3\\lib\\site-packages\\keras\\backend\\tensorflow_backend.py:3445: calling dropout (from tensorflow.python.ops.nn_ops) with keep_prob is deprecated and will be removed in a future version.\n",
      "Instructions for updating:\n",
      "Please use `rate` instead of `keep_prob`. Rate should be set to `rate = 1 - keep_prob`.\n"
     ]
    }
   ],
   "source": [
    "## Create the architecture or configuration of convolutional neural network\n",
    "model=Sequential()\n",
    "\n",
    "## The first hidden layer is convolutional layer \n",
    "model.add(Conv2D(filters=6,kernel_size=(3,3),padding='same',input_shape=(32,32,1)))\n",
    "\n",
    "## And a maxpooling layer\n",
    "model.add(MaxPooling2D(pool_size=(2,2)))\n",
    "\n",
    "#Batch normalization\n",
    "model.add(BatchNormalization())\n",
    "\n",
    "##And again a convolutional layer\n",
    "model.add(Conv2D(filters=16,kernel_size=(3,3),padding='valid'))\n",
    "\n",
    "## And again a maxpooling layer\n",
    "model.add(MaxPooling2D(pool_size=(2,2)))\n",
    "\n",
    "#Batch normalization\n",
    "model.add(BatchNormalization())\n",
    "\n",
    "## Then flattened operation to create a fully connected layer\n",
    "model.add(Flatten())\n",
    "\n",
    "model.add(Dropout(0.40,seed=100))##\n",
    "\n",
    "## After flattening we have fully connected relu layer \n",
    "#Again a relu layer and then a output of softmax layer \n",
    "model.add(Dense(120,activation='relu'))\n",
    "model.add(Dense(84,activation='relu'))\n",
    "model.add(Dense(46,activation='softmax'))"
   ]
  },
  {
   "cell_type": "code",
   "execution_count": 34,
   "metadata": {},
   "outputs": [],
   "source": [
    "## Here is compiler \n",
    "sgd = SGD(lr=0.1, decay=1e-6, momentum=0.9, nesterov=True)\n",
    "model.compile(loss='categorical_crossentropy',\n",
    "              optimizer=sgd,\n",
    "              metrics=['accuracy'])"
   ]
  },
  {
   "cell_type": "code",
   "execution_count": 35,
   "metadata": {},
   "outputs": [],
   "source": [
    "##Reshaping: nrows,32,32,1 channel (images are in greyscale)\n",
    "x_train=x.reshape(x.shape[0],32,32,1)"
   ]
  },
  {
   "cell_type": "code",
   "execution_count": 36,
   "metadata": {},
   "outputs": [
    {
     "name": "stdout",
     "output_type": "stream",
     "text": [
      "WARNING:tensorflow:From C:\\Users\\hp\\Anaconda3\\lib\\site-packages\\tensorflow\\python\\ops\\math_ops.py:3066: to_int32 (from tensorflow.python.ops.math_ops) is deprecated and will be removed in a future version.\n",
      "Instructions for updating:\n",
      "Use tf.cast instead.\n",
      "Train on 62560 samples, validate on 15640 samples\n",
      "Epoch 1/10\n",
      "62560/62560 [==============================] - 53s 842us/step - loss: 1.5202 - acc: 0.5848 - val_loss: 0.7367 - val_acc: 0.7884\n",
      "Epoch 2/10\n",
      "62560/62560 [==============================] - 52s 826us/step - loss: 0.4049 - acc: 0.8747 - val_loss: 0.2617 - val_acc: 0.9203\n",
      "Epoch 3/10\n",
      "62560/62560 [==============================] - 52s 827us/step - loss: 0.2681 - acc: 0.9163 - val_loss: 0.2082 - val_acc: 0.9364\n",
      "Epoch 4/10\n",
      "62560/62560 [==============================] - 52s 825us/step - loss: 0.2172 - acc: 0.9304 - val_loss: 0.1611 - val_acc: 0.9503\n",
      "Epoch 5/10\n",
      "62560/62560 [==============================] - 52s 833us/step - loss: 0.1817 - acc: 0.9415 - val_loss: 0.1538 - val_acc: 0.9526\n",
      "Epoch 6/10\n",
      "62560/62560 [==============================] - 52s 829us/step - loss: 0.1577 - acc: 0.9493 - val_loss: 0.1439 - val_acc: 0.9556\n",
      "Epoch 7/10\n",
      "62560/62560 [==============================] - 52s 828us/step - loss: 0.1398 - acc: 0.9550 - val_loss: 0.1229 - val_acc: 0.9633\n",
      "Epoch 8/10\n",
      "62560/62560 [==============================] - 52s 830us/step - loss: 0.1276 - acc: 0.9585 - val_loss: 0.1153 - val_acc: 0.9652\n",
      "Epoch 9/10\n",
      "62560/62560 [==============================] - 52s 829us/step - loss: 0.1183 - acc: 0.9608 - val_loss: 0.1400 - val_acc: 0.9587\n",
      "Epoch 10/10\n",
      "62560/62560 [==============================] - 51s 818us/step - loss: 0.1104 - acc: 0.9630 - val_loss: 0.1088 - val_acc: 0.9689\n"
     ]
    }
   ],
   "source": [
    "## Training of convolutional neural network\n",
    "history=model.fit(x_train,y,epochs=10,batch_size=1000,validation_split=0.20, shuffle = True)"
   ]
  },
  {
   "cell_type": "code",
   "execution_count": 37,
   "metadata": {},
   "outputs": [],
   "source": [
    "#Read test data in panda dataframe\n",
    "X_test=pd.read_csv(\"test_X.csv\")"
   ]
  },
  {
   "cell_type": "code",
   "execution_count": 38,
   "metadata": {},
   "outputs": [
    {
     "data": {
      "text/plain": [
       "(13800, 1024)"
      ]
     },
     "execution_count": 38,
     "metadata": {},
     "output_type": "execute_result"
    }
   ],
   "source": [
    "X_test.shape"
   ]
  },
  {
   "cell_type": "code",
   "execution_count": 39,
   "metadata": {},
   "outputs": [
    {
     "data": {
      "text/html": [
       "<div>\n",
       "<style scoped>\n",
       "    .dataframe tbody tr th:only-of-type {\n",
       "        vertical-align: middle;\n",
       "    }\n",
       "\n",
       "    .dataframe tbody tr th {\n",
       "        vertical-align: top;\n",
       "    }\n",
       "\n",
       "    .dataframe thead th {\n",
       "        text-align: right;\n",
       "    }\n",
       "</style>\n",
       "<table border=\"1\" class=\"dataframe\">\n",
       "  <thead>\n",
       "    <tr style=\"text-align: right;\">\n",
       "      <th></th>\n",
       "      <th>0</th>\n",
       "      <th>1</th>\n",
       "      <th>2</th>\n",
       "      <th>3</th>\n",
       "      <th>4</th>\n",
       "      <th>5</th>\n",
       "      <th>6</th>\n",
       "      <th>7</th>\n",
       "      <th>8</th>\n",
       "      <th>9</th>\n",
       "      <th>...</th>\n",
       "      <th>1014</th>\n",
       "      <th>1015</th>\n",
       "      <th>1016</th>\n",
       "      <th>1017</th>\n",
       "      <th>1018</th>\n",
       "      <th>1019</th>\n",
       "      <th>1020</th>\n",
       "      <th>1021</th>\n",
       "      <th>1022</th>\n",
       "      <th>1023</th>\n",
       "    </tr>\n",
       "  </thead>\n",
       "  <tbody>\n",
       "    <tr>\n",
       "      <th>0</th>\n",
       "      <td>0</td>\n",
       "      <td>0</td>\n",
       "      <td>0</td>\n",
       "      <td>0</td>\n",
       "      <td>0</td>\n",
       "      <td>0</td>\n",
       "      <td>0</td>\n",
       "      <td>0</td>\n",
       "      <td>0</td>\n",
       "      <td>0</td>\n",
       "      <td>...</td>\n",
       "      <td>0</td>\n",
       "      <td>0</td>\n",
       "      <td>0</td>\n",
       "      <td>0</td>\n",
       "      <td>0</td>\n",
       "      <td>0</td>\n",
       "      <td>0</td>\n",
       "      <td>0</td>\n",
       "      <td>0</td>\n",
       "      <td>0</td>\n",
       "    </tr>\n",
       "    <tr>\n",
       "      <th>1</th>\n",
       "      <td>0</td>\n",
       "      <td>0</td>\n",
       "      <td>0</td>\n",
       "      <td>0</td>\n",
       "      <td>0</td>\n",
       "      <td>0</td>\n",
       "      <td>0</td>\n",
       "      <td>0</td>\n",
       "      <td>0</td>\n",
       "      <td>0</td>\n",
       "      <td>...</td>\n",
       "      <td>0</td>\n",
       "      <td>0</td>\n",
       "      <td>0</td>\n",
       "      <td>0</td>\n",
       "      <td>0</td>\n",
       "      <td>0</td>\n",
       "      <td>0</td>\n",
       "      <td>0</td>\n",
       "      <td>0</td>\n",
       "      <td>0</td>\n",
       "    </tr>\n",
       "    <tr>\n",
       "      <th>2</th>\n",
       "      <td>0</td>\n",
       "      <td>0</td>\n",
       "      <td>0</td>\n",
       "      <td>0</td>\n",
       "      <td>0</td>\n",
       "      <td>0</td>\n",
       "      <td>0</td>\n",
       "      <td>0</td>\n",
       "      <td>0</td>\n",
       "      <td>0</td>\n",
       "      <td>...</td>\n",
       "      <td>0</td>\n",
       "      <td>0</td>\n",
       "      <td>0</td>\n",
       "      <td>0</td>\n",
       "      <td>0</td>\n",
       "      <td>0</td>\n",
       "      <td>0</td>\n",
       "      <td>0</td>\n",
       "      <td>0</td>\n",
       "      <td>0</td>\n",
       "    </tr>\n",
       "    <tr>\n",
       "      <th>3</th>\n",
       "      <td>0</td>\n",
       "      <td>0</td>\n",
       "      <td>0</td>\n",
       "      <td>0</td>\n",
       "      <td>0</td>\n",
       "      <td>0</td>\n",
       "      <td>0</td>\n",
       "      <td>0</td>\n",
       "      <td>0</td>\n",
       "      <td>0</td>\n",
       "      <td>...</td>\n",
       "      <td>0</td>\n",
       "      <td>0</td>\n",
       "      <td>0</td>\n",
       "      <td>0</td>\n",
       "      <td>0</td>\n",
       "      <td>0</td>\n",
       "      <td>0</td>\n",
       "      <td>0</td>\n",
       "      <td>0</td>\n",
       "      <td>0</td>\n",
       "    </tr>\n",
       "    <tr>\n",
       "      <th>4</th>\n",
       "      <td>0</td>\n",
       "      <td>0</td>\n",
       "      <td>0</td>\n",
       "      <td>0</td>\n",
       "      <td>0</td>\n",
       "      <td>0</td>\n",
       "      <td>0</td>\n",
       "      <td>0</td>\n",
       "      <td>0</td>\n",
       "      <td>0</td>\n",
       "      <td>...</td>\n",
       "      <td>0</td>\n",
       "      <td>0</td>\n",
       "      <td>0</td>\n",
       "      <td>0</td>\n",
       "      <td>0</td>\n",
       "      <td>0</td>\n",
       "      <td>0</td>\n",
       "      <td>0</td>\n",
       "      <td>0</td>\n",
       "      <td>0</td>\n",
       "    </tr>\n",
       "  </tbody>\n",
       "</table>\n",
       "<p>5 rows × 1024 columns</p>\n",
       "</div>"
      ],
      "text/plain": [
       "   0  1  2  3  4  5  6  7  8  9  ...  1014  1015  1016  1017  1018  1019  \\\n",
       "0  0  0  0  0  0  0  0  0  0  0  ...     0     0     0     0     0     0   \n",
       "1  0  0  0  0  0  0  0  0  0  0  ...     0     0     0     0     0     0   \n",
       "2  0  0  0  0  0  0  0  0  0  0  ...     0     0     0     0     0     0   \n",
       "3  0  0  0  0  0  0  0  0  0  0  ...     0     0     0     0     0     0   \n",
       "4  0  0  0  0  0  0  0  0  0  0  ...     0     0     0     0     0     0   \n",
       "\n",
       "   1020  1021  1022  1023  \n",
       "0     0     0     0     0  \n",
       "1     0     0     0     0  \n",
       "2     0     0     0     0  \n",
       "3     0     0     0     0  \n",
       "4     0     0     0     0  \n",
       "\n",
       "[5 rows x 1024 columns]"
      ]
     },
     "execution_count": 39,
     "metadata": {},
     "output_type": "execute_result"
    }
   ],
   "source": [
    "X_test.head()"
   ]
  },
  {
   "cell_type": "code",
   "execution_count": 40,
   "metadata": {},
   "outputs": [],
   "source": [
    "## Creates np array of test matrix\n",
    "x_text=np.array(X_test)\n",
    "\n",
    "## Normalizes the test matrix \n",
    "x_test=x_text/255.0\n",
    "\n",
    "##Reshapes the normalized test matrix\n",
    "x_test=x_test.reshape(x_test.shape[0],32,32,1)"
   ]
  },
  {
   "cell_type": "code",
   "execution_count": 41,
   "metadata": {},
   "outputs": [],
   "source": [
    "#To save predicted tabel of test data in csv file named as pred\n",
    "count = 0 \n",
    "test_label = []\n",
    "header = ['Label']\n",
    "\n",
    "with open('pred.csv', 'a', newline= '') as predict:\n",
    "    filewriter = csv.writer(predict)\n",
    "    filewriter.writerow(header)\n",
    "    \n",
    "    # Prediction as probability vector for each test image\n",
    "    for i in range(x_test.shape[0]):\n",
    "        p = model.predict_proba(x_test[i,:,:].reshape(1,32,32,1))\n",
    "        indx = np.argmax(p)\n",
    "        filewriter.writerow([label_dic[indx]])\n",
    "        count = count + 1    "
   ]
  },
  {
   "cell_type": "code",
   "execution_count": 42,
   "metadata": {},
   "outputs": [
    {
     "data": {
      "image/png": "[encoded data removed]",
      "text/plain": [
       "<Figure size 432x288 with 1 Axes>"
      ]
     },
     "metadata": {
      "needs_background": "light"
     },
     "output_type": "display_data"
    }
   ],
   "source": [
    "## Check for overfit\n",
    "plt.plot(history.history['acc'])\n",
    "plt.plot(history.history['val_acc'])\n",
    "plt.title('model accuracy')\n",
    "plt.ylabel('accuracy')\n",
    "plt.xlabel('epoch')\n",
    "plt.legend(['train', 'test'], loc='upper left')\n",
    "plt.show()"
   ]
  },
  {
   "cell_type": "code",
   "execution_count": 43,
   "metadata": {},
   "outputs": [
    {
     "data": {
      "image/png": "[encoded data removed]",
      "text/plain": [
       "<Figure size 432x288 with 1 Axes>"
      ]
     },
     "metadata": {
      "needs_background": "light"
     },
     "output_type": "display_data"
    }
   ],
   "source": [
    "# summarize history for loss\n",
    "plt.plot(history.history['loss'])\n",
    "plt.plot(history.history['val_loss'])\n",
    "plt.title('model loss')\n",
    "plt.ylabel('loss')\n",
    "plt.xlabel('epoch')\n",
    "plt.legend(['train', 'test'], loc='upper left')\n",
    "plt.show()"
   ]
  }
 ],
 "metadata": {
  "kernelspec": {
   "display_name": "Python 3",
   "language": "python",
   "name": "python3"
  },
  "language_info": {
   "codemirror_mode": {
    "name": "ipython",
    "version": 3
   },
   "file_extension": ".py",
   "mimetype": "text/x-python",
   "name": "python",
   "nbconvert_exporter": "python",
   "pygments_lexer": "ipython3",
   "version": "3.6.5"
  }
 },
 "nbformat": 4,
 "nbformat_minor": 2
}
